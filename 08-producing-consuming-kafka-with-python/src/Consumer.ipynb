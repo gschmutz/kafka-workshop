{
 "cells": [
  {
   "cell_type": "code",
   "execution_count": 2,
   "id": "9444f620-228a-4394-824e-568cd7215fe2",
   "metadata": {},
   "outputs": [],
   "source": [
    "from uuid import uuid4\n",
    "\n",
    "from confluent_kafka import Consumer\n",
    "from confluent_kafka.serialization import StringDeserializer, SerializationContext, MessageField\n",
    "from confluent_kafka.schema_registry import SchemaRegistryClient\n",
    "from confluent_kafka.schema_registry.avro import AvroDeserializer"
   ]
  },
  {
   "cell_type": "code",
   "execution_count": 7,
   "id": "3f842300-5352-4c88-8b82-4788ab2a956e",
   "metadata": {},
   "outputs": [],
   "source": [
    "def get_schema_from_schema_registry(schema_registry_url, schema_registry_subject):\n",
    "    sr = SchemaRegistryClient({'url': schema_registry_url})\n",
    "    latest_version = sr.get_latest_version(schema_registry_subject)\n",
    "\n",
    "    return sr, latest_version"
   ]
  },
  {
   "cell_type": "code",
   "execution_count": 1,
   "id": "32885e4c-ca6f-4dd3-adef-54acf210b128",
   "metadata": {},
   "outputs": [],
   "source": [
    "bootstrap_servers = \"kafka-1:19092,kafka-2:19093\"\n",
    "topic = \"test-avro-topic\"\n",
    "schema_registry_subject = topic + \"-value\""
   ]
  },
  {
   "cell_type": "code",
   "execution_count": 4,
   "id": "7216d484-7617-4f47-9259-67834dc89f68",
   "metadata": {},
   "outputs": [],
   "source": [
    "schema_registry_url = 'http://schema-registry-1:8081'\n",
    "\n",
    "schema_registry_conf = {'url': schema_registry_url}\n",
    "schema_registry_client = SchemaRegistryClient(schema_registry_conf)"
   ]
  },
  {
   "cell_type": "code",
   "execution_count": 8,
   "id": "8e759064-1e1c-4ba4-a5f7-a1681d62c069",
   "metadata": {},
   "outputs": [],
   "source": [
    "sr, latest_version = get_schema_from_schema_registry(schema_registry_url, schema_registry_subject)\n",
    "schema_str = latest_version.schema.schema_str"
   ]
  },
  {
   "cell_type": "code",
   "execution_count": 9,
   "id": "88f5b429-39fa-4edb-ac3a-6834f697e9c1",
   "metadata": {},
   "outputs": [],
   "source": [
    "avro_deserializer = AvroDeserializer(schema_registry_client,\n",
    "                                         schema_str)\n",
    "\n",
    "consumer_conf = {'bootstrap.servers': bootstrap_servers,\n",
    "                     'group.id': 'python-cg',\n",
    "                     'auto.offset.reset': \"earliest\"}\n",
    "\n",
    "consumer = Consumer(consumer_conf)\n",
    "consumer.subscribe([topic])"
   ]
  },
  {
   "cell_type": "code",
   "execution_count": null,
   "id": "32b13681-3bff-4cf0-a2eb-d212d2740995",
   "metadata": {},
   "outputs": [
    {
     "name": "stdout",
     "output_type": "stream",
     "text": [
      "{'id': '1001', 'firstName': 'Peter', 'lastName': 'Muster'}\n",
      "{'id': '1001', 'firstName': 'Peter', 'lastName': 'Muster'}\n"
     ]
    }
   ],
   "source": [
    "while True:\n",
    "    try:\n",
    "        # SIGINT can't be handled when polling, limit timeout to 1 second.\n",
    "        msg = consumer.poll(1.0)\n",
    "        if msg is None:\n",
    "            continue\n",
    "\n",
    "        person = avro_deserializer(msg.value(), SerializationContext(msg.topic(), MessageField.VALUE))\n",
    "        if person is not None: \n",
    "            print (person)\n",
    "    except KeyboardInterrupt: \n",
    "        break        \n",
    "consumer.close() "
   ]
  },
  {
   "cell_type": "code",
   "execution_count": null,
   "id": "86fe351b-3f56-448e-92b4-df3f363c4ba4",
   "metadata": {},
   "outputs": [],
   "source": []
  }
 ],
 "metadata": {
  "kernelspec": {
   "display_name": "Python 3 (ipykernel)",
   "language": "python",
   "name": "python3"
  },
  "language_info": {
   "codemirror_mode": {
    "name": "ipython",
    "version": 3
   },
   "file_extension": ".py",
   "mimetype": "text/x-python",
   "name": "python",
   "nbconvert_exporter": "python",
   "pygments_lexer": "ipython3",
   "version": "3.11.6"
  }
 },
 "nbformat": 4,
 "nbformat_minor": 5
}
