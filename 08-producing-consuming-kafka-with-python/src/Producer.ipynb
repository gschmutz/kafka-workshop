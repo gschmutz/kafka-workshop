{
 "cells": [
  {
   "cell_type": "code",
   "execution_count": 31,
   "id": "429f4d85-8a6a-4b67-9466-be0176a4c1ef",
   "metadata": {},
   "outputs": [],
   "source": [
    "from uuid import uuid4\n",
    "\n",
    "from confluent_kafka import Producer\n",
    "from confluent_kafka.serialization import StringSerializer, SerializationContext, MessageField\n",
    "from confluent_kafka.schema_registry import SchemaRegistryClient\n",
    "from confluent_kafka.schema_registry.avro import AvroSerializer"
   ]
  },
  {
   "cell_type": "code",
   "execution_count": 20,
   "id": "7cfbc9f0-ed92-48bb-8c6c-cced4cbe999b",
   "metadata": {},
   "outputs": [],
   "source": [
    "def get_schema_from_schema_registry(schema_registry_url, schema_registry_subject):\n",
    "    sr = SchemaRegistryClient({'url': schema_registry_url})\n",
    "    latest_version = sr.get_latest_version(schema_registry_subject)\n",
    "\n",
    "    return sr, latest_version"
   ]
  },
  {
   "cell_type": "code",
   "execution_count": 36,
   "id": "2c1bee89-a359-4fb5-a28c-5bef7501aac7",
   "metadata": {},
   "outputs": [],
   "source": [
    "bootstrap_servers = \"kafka-1:19092,kafka-2:19093\"\n",
    "topic = \"test-avro-topic\"\n",
    "schema_registry_subject = topic + \"-value\""
   ]
  },
  {
   "cell_type": "code",
   "execution_count": 18,
   "id": "0f193697-8958-4ac6-8dae-47e0bf172366",
   "metadata": {},
   "outputs": [],
   "source": [
    "schema_registry_url = 'http://schema-registry-1:8081'\n",
    "\n",
    "schema_registry_conf = {'url': schema_registry_url}\n",
    "schema_registry_client = SchemaRegistryClient(schema_registry_conf)"
   ]
  },
  {
   "cell_type": "code",
   "execution_count": 4,
   "id": "378d892f-dc64-4b07-bf85-f6b234dfb460",
   "metadata": {},
   "outputs": [],
   "source": [
    "schema_str = \"\"\"\n",
    "{\n",
    "   \"namespace\": \"my.test\",\n",
    "   \"name\": \"Person\",\n",
    "   \"type\": \"record\",\n",
    "   \"fields\" : [\n",
    "     {\n",
    "       \"name\" : \"id\",\n",
    "       \"type\" : \"string\"\n",
    "     },\n",
    "     {\n",
    "       \"name\" : \"firstName\",\n",
    "       \"type\" : \"string\"\n",
    "     },\n",
    "     {\n",
    "       \"name\" : \"lastName\",\n",
    "       \"type\" : \"string\"\n",
    "     }\n",
    "   ]\n",
    "}\n",
    "\"\"\""
   ]
  },
  {
   "cell_type": "code",
   "execution_count": 23,
   "id": "926a64ee-75a4-4002-b310-8f3a13514b8f",
   "metadata": {},
   "outputs": [],
   "source": [
    "sr, latest_version = get_schema_from_schema_registry(schema_registry_url, schema_registry_subject)\n",
    "schema_str = latest_version.schema.schema_str"
   ]
  },
  {
   "cell_type": "code",
   "execution_count": 24,
   "id": "998a27c8-9908-4ff0-8e5a-76c64d0c61a2",
   "metadata": {},
   "outputs": [],
   "source": [
    "def delivery_report(err, msg):\n",
    "    \"\"\" Called once for each message produced to indicate delivery result.\n",
    "        Triggered by poll() or flush(). \"\"\"\n",
    "    if err is not None:\n",
    "        print('Message delivery failed: {}'.format(err))\n",
    "    else:\n",
    "        print('Message delivered to {} [{}]'.format(msg.topic(), msg.partition()))"
   ]
  },
  {
   "cell_type": "code",
   "execution_count": 25,
   "id": "fc10bf39-209d-4b86-919b-172d0d3c1898",
   "metadata": {},
   "outputs": [],
   "source": [
    "person = {\"id\":\"1001\", \"firstName\": \"Peter\", \"lastName\": \"Muster\"}\n",
    "\n",
    "value_avro_serializer = AvroSerializer(schema_registry_client,\n",
    "                                         schema_str,                                        \n",
    "                                )\n",
    "\n",
    "string_serializer = StringSerializer('utf_8')\n",
    "\n",
    "producer_conf = {'bootstrap.servers': bootstrap_servers}\n",
    "\n",
    "producer = Producer(producer_conf)\n"
   ]
  },
  {
   "cell_type": "code",
   "execution_count": 15,
   "id": "bccccf9e-f3e0-4435-9cbb-e8b0cf44c41d",
   "metadata": {},
   "outputs": [
    {
     "data": {
      "text/plain": [
       "0"
      ]
     },
     "execution_count": 15,
     "metadata": {},
     "output_type": "execute_result"
    }
   ],
   "source": [
    "# Serve on_delivery callbacks from previous calls to produce()\n",
    "producer.poll(0.0)"
   ]
  },
  {
   "cell_type": "code",
   "execution_count": 50,
   "id": "79c241ad-dd99-453e-89d6-2aa0583e3bb1",
   "metadata": {},
   "outputs": [],
   "source": [
    "producer.produce(topic=topic,\n",
    "                key=string_serializer(str(uuid4())),\n",
    "                value=value_avro_serializer(person, SerializationContext(topic, MessageField.VALUE)),\n",
    "                on_delivery=delivery_report)"
   ]
  },
  {
   "cell_type": "code",
   "execution_count": 51,
   "id": "b2ccb327-3bbd-45aa-af87-88d4319faf77",
   "metadata": {},
   "outputs": [
    {
     "name": "stdout",
     "output_type": "stream",
     "text": [
      "Message delivered to test-avro-topic [0]\n"
     ]
    },
    {
     "data": {
      "text/plain": [
       "0"
      ]
     },
     "execution_count": 51,
     "metadata": {},
     "output_type": "execute_result"
    }
   ],
   "source": [
    "producer.flush()"
   ]
  },
  {
   "cell_type": "code",
   "execution_count": null,
   "id": "6d593582-96ec-4a74-98e5-98b32d12c06b",
   "metadata": {},
   "outputs": [],
   "source": []
  }
 ],
 "metadata": {
  "kernelspec": {
   "display_name": "Python 3 (ipykernel)",
   "language": "python",
   "name": "python3"
  },
  "language_info": {
   "codemirror_mode": {
    "name": "ipython",
    "version": 3
   },
   "file_extension": ".py",
   "mimetype": "text/x-python",
   "name": "python",
   "nbconvert_exporter": "python",
   "pygments_lexer": "ipython3",
   "version": "3.11.6"
  }
 },
 "nbformat": 4,
 "nbformat_minor": 5
}
