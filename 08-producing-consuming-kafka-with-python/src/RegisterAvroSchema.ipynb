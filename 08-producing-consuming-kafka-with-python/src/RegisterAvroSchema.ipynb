{
 "cells": [
  {
   "cell_type": "code",
   "execution_count": 3,
   "id": "3fdcc44f-53b9-484e-90da-1501d84063c3",
   "metadata": {},
   "outputs": [],
   "source": [
    "from confluent_kafka.schema_registry import SchemaRegistryClient"
   ]
  },
  {
   "cell_type": "code",
   "execution_count": 1,
   "id": "789fe5de-45e1-44cd-b1b4-5056df042fb7",
   "metadata": {},
   "outputs": [],
   "source": [
    "def register_schema(schema_registry_url, schema_registry_subject, schema_str):\n",
    "    sr = SchemaRegistryClient({'url': schema_registry_url})\n",
    "    schema = Schema(schema_str, schema_type=\"AVRO\")\n",
    "    schema_id = sr.register_schema(subject_name=schema_registry_subject, schema=schema)\n",
    "\n",
    "    return schema_id"
   ]
  },
  {
   "cell_type": "code",
   "execution_count": 4,
   "id": "5dc59603-6048-4c23-a374-c45dd8204a53",
   "metadata": {},
   "outputs": [],
   "source": [
    "schema_registry_url = 'http://schema-registry-1:8081'\n",
    "\n",
    "schema_registry_conf = {'url': schema_registry_url}\n",
    "schema_registry_client = SchemaRegistryClient(schema_registry_conf)"
   ]
  },
  {
   "cell_type": "code",
   "execution_count": 5,
   "id": "6de8110a-9801-4f64-802c-ce01e74d35f3",
   "metadata": {},
   "outputs": [],
   "source": [
    "schema_str = \"\"\"\n",
    "{\n",
    "   \"namespace\": \"my.test\",\n",
    "   \"name\": \"Person\",\n",
    "   \"type\": \"record\",\n",
    "   \"fields\" : [\n",
    "     {\n",
    "       \"name\" : \"id\",\n",
    "       \"type\" : \"string\"\n",
    "     },\n",
    "     {\n",
    "       \"name\" : \"firstName\",\n",
    "       \"type\" : \"string\"\n",
    "     },\n",
    "     {\n",
    "       \"name\" : \"lastName\",\n",
    "       \"type\" : \"string\"\n",
    "     }\n",
    "   ]\n",
    "}\n",
    "\"\"\"\n",
    "\n",
    "topic = \"test-avro-topic\"\n",
    "schema_registry_subject = topic + \"-value\""
   ]
  },
  {
   "cell_type": "code",
   "execution_count": 12,
   "id": "c0806662-e8d9-4d09-9f28-cccbb189e75a",
   "metadata": {},
   "outputs": [
    {
     "name": "stdout",
     "output_type": "stream",
     "text": [
      "4\n"
     ]
    }
   ],
   "source": [
    "schema_id = register_schema(schema_registry_url, schema_registry_subject, schema_str)\n",
    "print(schema_id)"
   ]
  },
  {
   "cell_type": "code",
   "execution_count": null,
   "id": "b6afef78-7309-4fe7-875a-9ed0beb5b2e5",
   "metadata": {},
   "outputs": [],
   "source": []
  }
 ],
 "metadata": {
  "kernelspec": {
   "display_name": "Python 3 (ipykernel)",
   "language": "python",
   "name": "python3"
  },
  "language_info": {
   "codemirror_mode": {
    "name": "ipython",
    "version": 3
   },
   "file_extension": ".py",
   "mimetype": "text/x-python",
   "name": "python",
   "nbconvert_exporter": "python",
   "pygments_lexer": "ipython3",
   "version": "3.11.6"
  }
 },
 "nbformat": 4,
 "nbformat_minor": 5
}
